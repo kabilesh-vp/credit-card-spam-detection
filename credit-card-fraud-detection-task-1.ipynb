{
 "cells": [
  {
   "cell_type": "code",
   "execution_count": 1,
   "id": "577257a0",
   "metadata": {
    "_cell_guid": "b1076dfc-b9ad-4769-8c92-a6c4dae69d19",
    "_uuid": "8f2839f25d086af736a60e9eeb907d3b93b6e0e5",
    "execution": {
     "iopub.execute_input": "2024-12-16T17:46:13.189752Z",
     "iopub.status.busy": "2024-12-16T17:46:13.189340Z",
     "iopub.status.idle": "2024-12-16T17:46:14.086338Z",
     "shell.execute_reply": "2024-12-16T17:46:14.085158Z"
    },
    "papermill": {
     "duration": 0.907228,
     "end_time": "2024-12-16T17:46:14.088848",
     "exception": false,
     "start_time": "2024-12-16T17:46:13.181620",
     "status": "completed"
    },
    "tags": []
   },
   "outputs": [],
   "source": [
    "import numpy as np \n",
    "import pandas as pd \n",
    "import os\n",
    "for dirname, _, filenames in os.walk('/kaggle/input/creditcardfraud/creditcard.csv'):\n",
    "    for filename in filenames:\n",
    "        print(os.path.join(dirname, filename))"
   ]
  },
  {
   "cell_type": "code",
   "execution_count": 2,
   "id": "eed83631",
   "metadata": {
    "execution": {
     "iopub.execute_input": "2024-12-16T17:46:14.101817Z",
     "iopub.status.busy": "2024-12-16T17:46:14.100966Z",
     "iopub.status.idle": "2024-12-16T17:46:18.269822Z",
     "shell.execute_reply": "2024-12-16T17:46:18.268521Z"
    },
    "papermill": {
     "duration": 4.177967,
     "end_time": "2024-12-16T17:46:18.272387",
     "exception": false,
     "start_time": "2024-12-16T17:46:14.094420",
     "status": "completed"
    },
    "tags": []
   },
   "outputs": [],
   "source": [
    "data=pd.read_csv('/kaggle/input/creditcardfraud/creditcard.csv')"
   ]
  },
  {
   "cell_type": "markdown",
   "id": "646f1d46",
   "metadata": {
    "papermill": {
     "duration": 0.005894,
     "end_time": "2024-12-16T17:46:18.284232",
     "exception": false,
     "start_time": "2024-12-16T17:46:18.278338",
     "status": "completed"
    },
    "tags": []
   },
   "source": [
    "* ****Data Overview****"
   ]
  },
  {
   "cell_type": "markdown",
   "id": "2aa065b6",
   "metadata": {
    "papermill": {
     "duration": 0.004884,
     "end_time": "2024-12-16T17:46:18.294788",
     "exception": false,
     "start_time": "2024-12-16T17:46:18.289904",
     "status": "completed"
    },
    "tags": []
   },
   "source": [
    "1. size of the dataset (rows and columns)"
   ]
  },
  {
   "cell_type": "code",
   "execution_count": 3,
   "id": "0171e52a",
   "metadata": {
    "execution": {
     "iopub.execute_input": "2024-12-16T17:46:18.307828Z",
     "iopub.status.busy": "2024-12-16T17:46:18.307436Z",
     "iopub.status.idle": "2024-12-16T17:46:18.313792Z",
     "shell.execute_reply": "2024-12-16T17:46:18.312418Z"
    },
    "papermill": {
     "duration": 0.016378,
     "end_time": "2024-12-16T17:46:18.316399",
     "exception": false,
     "start_time": "2024-12-16T17:46:18.300021",
     "status": "completed"
    },
    "tags": []
   },
   "outputs": [
    {
     "name": "stdout",
     "output_type": "stream",
     "text": [
      "Number of rows: 284807\n",
      "Number of columns: 31\n"
     ]
    }
   ],
   "source": [
    "rows, columns = data.shape\n",
    "print(f'Number of rows: {rows}')\n",
    "print(f'Number of columns: {columns}')"
   ]
  },
  {
   "cell_type": "markdown",
   "id": "6c5a5f86",
   "metadata": {
    "papermill": {
     "duration": 0.00529,
     "end_time": "2024-12-16T17:46:18.327305",
     "exception": false,
     "start_time": "2024-12-16T17:46:18.322015",
     "status": "completed"
    },
    "tags": []
   },
   "source": [
    "2. Datatype of each columns"
   ]
  },
  {
   "cell_type": "code",
   "execution_count": 4,
   "id": "c04943cc",
   "metadata": {
    "execution": {
     "iopub.execute_input": "2024-12-16T17:46:18.339598Z",
     "iopub.status.busy": "2024-12-16T17:46:18.339203Z",
     "iopub.status.idle": "2024-12-16T17:46:18.347314Z",
     "shell.execute_reply": "2024-12-16T17:46:18.346127Z"
    },
    "papermill": {
     "duration": 0.016986,
     "end_time": "2024-12-16T17:46:18.349624",
     "exception": false,
     "start_time": "2024-12-16T17:46:18.332638",
     "status": "completed"
    },
    "tags": []
   },
   "outputs": [
    {
     "name": "stdout",
     "output_type": "stream",
     "text": [
      "Time      float64\n",
      "V1        float64\n",
      "V2        float64\n",
      "V3        float64\n",
      "V4        float64\n",
      "V5        float64\n",
      "V6        float64\n",
      "V7        float64\n",
      "V8        float64\n",
      "V9        float64\n",
      "V10       float64\n",
      "V11       float64\n",
      "V12       float64\n",
      "V13       float64\n",
      "V14       float64\n",
      "V15       float64\n",
      "V16       float64\n",
      "V17       float64\n",
      "V18       float64\n",
      "V19       float64\n",
      "V20       float64\n",
      "V21       float64\n",
      "V22       float64\n",
      "V23       float64\n",
      "V24       float64\n",
      "V25       float64\n",
      "V26       float64\n",
      "V27       float64\n",
      "V28       float64\n",
      "Amount    float64\n",
      "Class       int64\n",
      "dtype: object\n"
     ]
    }
   ],
   "source": [
    "print(data.dtypes)"
   ]
  },
  {
   "cell_type": "markdown",
   "id": "93a279bc",
   "metadata": {
    "papermill": {
     "duration": 0.005173,
     "end_time": "2024-12-16T17:46:18.360321",
     "exception": false,
     "start_time": "2024-12-16T17:46:18.355148",
     "status": "completed"
    },
    "tags": []
   },
   "source": [
    "3. Missing values in dataset"
   ]
  },
  {
   "cell_type": "code",
   "execution_count": 5,
   "id": "a0d413d7",
   "metadata": {
    "execution": {
     "iopub.execute_input": "2024-12-16T17:46:18.372966Z",
     "iopub.status.busy": "2024-12-16T17:46:18.372205Z",
     "iopub.status.idle": "2024-12-16T17:46:18.394685Z",
     "shell.execute_reply": "2024-12-16T17:46:18.393612Z"
    },
    "papermill": {
     "duration": 0.03125,
     "end_time": "2024-12-16T17:46:18.396909",
     "exception": false,
     "start_time": "2024-12-16T17:46:18.365659",
     "status": "completed"
    },
    "tags": []
   },
   "outputs": [
    {
     "name": "stdout",
     "output_type": "stream",
     "text": [
      "Missing values in each column:\n",
      "Time      0\n",
      "V1        0\n",
      "V2        0\n",
      "V3        0\n",
      "V4        0\n",
      "V5        0\n",
      "V6        0\n",
      "V7        0\n",
      "V8        0\n",
      "V9        0\n",
      "V10       0\n",
      "V11       0\n",
      "V12       0\n",
      "V13       0\n",
      "V14       0\n",
      "V15       0\n",
      "V16       0\n",
      "V17       0\n",
      "V18       0\n",
      "V19       0\n",
      "V20       0\n",
      "V21       0\n",
      "V22       0\n",
      "V23       0\n",
      "V24       0\n",
      "V25       0\n",
      "V26       0\n",
      "V27       0\n",
      "V28       0\n",
      "Amount    0\n",
      "Class     0\n",
      "dtype: int64\n"
     ]
    }
   ],
   "source": [
    "missing_values = data.isnull().sum()\n",
    "print(\"Missing values in each column:\")\n",
    "print(missing_values)"
   ]
  },
  {
   "cell_type": "markdown",
   "id": "fbcb8e87",
   "metadata": {
    "papermill": {
     "duration": 0.005109,
     "end_time": "2024-12-16T17:46:18.407560",
     "exception": false,
     "start_time": "2024-12-16T17:46:18.402451",
     "status": "completed"
    },
    "tags": []
   },
   "source": [
    "* **Class Distribution**"
   ]
  },
  {
   "cell_type": "markdown",
   "id": "24195636",
   "metadata": {
    "papermill": {
     "duration": 0.005071,
     "end_time": "2024-12-16T17:46:18.418007",
     "exception": false,
     "start_time": "2024-12-16T17:46:18.412936",
     "status": "completed"
    },
    "tags": []
   },
   "source": [
    "1. How is the target variable (fraudlent or not) distributed?"
   ]
  },
  {
   "cell_type": "code",
   "execution_count": 6,
   "id": "922c13b9",
   "metadata": {
    "execution": {
     "iopub.execute_input": "2024-12-16T17:46:18.430095Z",
     "iopub.status.busy": "2024-12-16T17:46:18.429601Z",
     "iopub.status.idle": "2024-12-16T17:46:18.450051Z",
     "shell.execute_reply": "2024-12-16T17:46:18.448691Z"
    },
    "papermill": {
     "duration": 0.029053,
     "end_time": "2024-12-16T17:46:18.452273",
     "exception": false,
     "start_time": "2024-12-16T17:46:18.423220",
     "status": "completed"
    },
    "tags": []
   },
   "outputs": [
    {
     "name": "stdout",
     "output_type": "stream",
     "text": [
      "Distribution of the target variable (class):\n",
      "Class\n",
      "0    284315\n",
      "1       492\n",
      "Name: count, dtype: int64\n"
     ]
    }
   ],
   "source": [
    "target_distribution = data['Class'].value_counts()\n",
    "print(\"Distribution of the target variable (class):\")\n",
    "print(target_distribution)"
   ]
  },
  {
   "cell_type": "markdown",
   "id": "2ce08ca6",
   "metadata": {
    "papermill": {
     "duration": 0.005427,
     "end_time": "2024-12-16T17:46:18.463384",
     "exception": false,
     "start_time": "2024-12-16T17:46:18.457957",
     "status": "completed"
    },
    "tags": []
   },
   "source": [
    "2. What is the percentage of fraudlent transactions in dataset?"
   ]
  },
  {
   "cell_type": "code",
   "execution_count": 7,
   "id": "2e93653f",
   "metadata": {
    "execution": {
     "iopub.execute_input": "2024-12-16T17:46:18.476062Z",
     "iopub.status.busy": "2024-12-16T17:46:18.475643Z",
     "iopub.status.idle": "2024-12-16T17:46:18.489679Z",
     "shell.execute_reply": "2024-12-16T17:46:18.488594Z"
    },
    "papermill": {
     "duration": 0.023522,
     "end_time": "2024-12-16T17:46:18.492339",
     "exception": false,
     "start_time": "2024-12-16T17:46:18.468817",
     "status": "completed"
    },
    "tags": []
   },
   "outputs": [
    {
     "name": "stdout",
     "output_type": "stream",
     "text": [
      "Total transactions: 284807\n",
      "Fraudulent transactions: 492\n",
      "Percentage of fraudulent transactions: 0.1727%\n"
     ]
    }
   ],
   "source": [
    "# Total number of transactions\n",
    "total_transactions = len(data)\n",
    "\n",
    "# Number of fraudulent transactions (assuming '1' represents fraudulent)\n",
    "fraudulent_transactions = data[data['Class'] == 1].shape[0]\n",
    "\n",
    "# Calculate the percentage of fraudulent transactions\n",
    "fraudulent_percentage = (fraudulent_transactions / total_transactions) * 100\n",
    "\n",
    "print(f'Total transactions: {total_transactions}')\n",
    "print(f'Fraudulent transactions: {fraudulent_transactions}')\n",
    "print(f'Percentage of fraudulent transactions: {fraudulent_percentage:.4f}%')\n"
   ]
  },
  {
   "cell_type": "markdown",
   "id": "7cd313ac",
   "metadata": {
    "papermill": {
     "duration": 0.005565,
     "end_time": "2024-12-16T17:46:18.503802",
     "exception": false,
     "start_time": "2024-12-16T17:46:18.498237",
     "status": "completed"
    },
    "tags": []
   },
   "source": [
    "3. Are there any class imbalances that needs too be addressed?"
   ]
  },
  {
   "cell_type": "code",
   "execution_count": 8,
   "id": "291746f9",
   "metadata": {
    "execution": {
     "iopub.execute_input": "2024-12-16T17:46:18.516788Z",
     "iopub.status.busy": "2024-12-16T17:46:18.516407Z",
     "iopub.status.idle": "2024-12-16T17:46:18.524869Z",
     "shell.execute_reply": "2024-12-16T17:46:18.523799Z"
    },
    "papermill": {
     "duration": 0.01765,
     "end_time": "2024-12-16T17:46:18.527071",
     "exception": false,
     "start_time": "2024-12-16T17:46:18.509421",
     "status": "completed"
    },
    "tags": []
   },
   "outputs": [
    {
     "name": "stdout",
     "output_type": "stream",
     "text": [
      "Class distribution:\n",
      "Class\n",
      "0    284315\n",
      "1       492\n",
      "Name: count, dtype: int64\n"
     ]
    }
   ],
   "source": [
    "class_distribution = data['Class'].value_counts()\n",
    "print(\"Class distribution:\")\n",
    "print(class_distribution)"
   ]
  },
  {
   "cell_type": "markdown",
   "id": "5e6ae467",
   "metadata": {
    "papermill": {
     "duration": 0.005435,
     "end_time": "2024-12-16T17:46:18.538242",
     "exception": false,
     "start_time": "2024-12-16T17:46:18.532807",
     "status": "completed"
    },
    "tags": []
   },
   "source": [
    "Interpretation:\n",
    "Class 0 (Non-Fraudulent): 284,315 transactions\n",
    "Class 1 (Fraudulent): 492 transactions"
   ]
  },
  {
   "cell_type": "markdown",
   "id": "4bc740f7",
   "metadata": {
    "papermill": {
     "duration": 0.005307,
     "end_time": "2024-12-16T17:46:18.549079",
     "exception": false,
     "start_time": "2024-12-16T17:46:18.543772",
     "status": "completed"
    },
    "tags": []
   },
   "source": [
    "* **Feature Correlations**"
   ]
  },
  {
   "cell_type": "markdown",
   "id": "58369db5",
   "metadata": {
    "papermill": {
     "duration": 0.005337,
     "end_time": "2024-12-16T17:46:18.560093",
     "exception": false,
     "start_time": "2024-12-16T17:46:18.554756",
     "status": "completed"
    },
    "tags": []
   },
   "source": [
    "1. Calculate and visualise the correlation matrix between features. Are there any strong correlations?"
   ]
  },
  {
   "cell_type": "code",
   "execution_count": 9,
   "id": "24c32c31",
   "metadata": {
    "execution": {
     "iopub.execute_input": "2024-12-16T17:46:18.573544Z",
     "iopub.status.busy": "2024-12-16T17:46:18.572771Z",
     "iopub.status.idle": "2024-12-16T17:46:21.799307Z",
     "shell.execute_reply": "2024-12-16T17:46:21.798280Z"
    },
    "papermill": {
     "duration": 3.235732,
     "end_time": "2024-12-16T17:46:21.801734",
     "exception": false,
     "start_time": "2024-12-16T17:46:18.566002",
     "status": "completed"
    },
    "tags": []
   },
   "outputs": [
    {
     "data": {
      "image/png": "[encoded data removed]",
      "text/plain": [
       "<Figure size 1200x1000 with 2 Axes>"
      ]
     },
     "metadata": {},
     "output_type": "display_data"
    },
    {
     "name": "stdout",
     "output_type": "stream",
     "text": [
      "Strong correlations (absolute correlation > 0.8):\n",
      "Empty DataFrame\n",
      "Columns: [Feature 1, Feature 2, Correlation]\n",
      "Index: []\n"
     ]
    }
   ],
   "source": [
    "import seaborn as sns\n",
    "import matplotlib.pyplot as plt\n",
    "\n",
    "correlation_matrix = data.corr()\n",
    "\n",
    "plt.figure(figsize=(12, 10))\n",
    "\n",
    "# Create a heatmap with seaborn to visualize the correlations\n",
    "sns.heatmap(correlation_matrix, annot=False, cmap='coolwarm', vmin=-1, vmax=1, linewidths=0.5)\n",
    "plt.title('Correlation Matrix of Features')\n",
    "plt.show()\n",
    "\n",
    "strong_correlations = []\n",
    "\n",
    "# Loop through the upper triangle of the correlation matrix to find strong correlations\n",
    "for i in range(len(correlation_matrix.columns)):\n",
    "    for j in range(i+1, len(correlation_matrix.columns)):\n",
    "        corr_value = correlation_matrix.iloc[i, j]\n",
    "        if abs(corr_value) > 0.8: \n",
    "            strong_correlations.append([correlation_matrix.columns[i], correlation_matrix.columns[j], corr_value])\n",
    "\n",
    "# Convert the list into a DataFrame for better readability\n",
    "strong_correlations_df = pd.DataFrame(strong_correlations, columns=['Feature 1', 'Feature 2', 'Correlation'])\n",
    "\n",
    "# Display the strong correlations\n",
    "print(\"Strong correlations (absolute correlation > 0.8):\")\n",
    "print(strong_correlations_df)"
   ]
  },
  {
   "cell_type": "markdown",
   "id": "25162712",
   "metadata": {
    "papermill": {
     "duration": 0.006144,
     "end_time": "2024-12-16T17:46:21.814617",
     "exception": false,
     "start_time": "2024-12-16T17:46:21.808473",
     "status": "completed"
    },
    "tags": []
   },
   "source": [
    "2. How do feature correlate with the target variable?"
   ]
  },
  {
   "cell_type": "code",
   "execution_count": 10,
   "id": "2f4e0578",
   "metadata": {
    "execution": {
     "iopub.execute_input": "2024-12-16T17:46:21.829366Z",
     "iopub.status.busy": "2024-12-16T17:46:21.828790Z",
     "iopub.status.idle": "2024-12-16T17:46:22.960732Z",
     "shell.execute_reply": "2024-12-16T17:46:22.959629Z"
    },
    "papermill": {
     "duration": 1.142173,
     "end_time": "2024-12-16T17:46:22.963167",
     "exception": false,
     "start_time": "2024-12-16T17:46:21.820994",
     "status": "completed"
    },
    "tags": []
   },
   "outputs": [
    {
     "data": {
      "image/png": "[encoded data removed]",
      "text/plain": [
       "<Figure size 1000x800 with 1 Axes>"
      ]
     },
     "metadata": {},
     "output_type": "display_data"
    }
   ],
   "source": [
    "# Calculate correlations between features and the target variable ('Class')\n",
    "correlation_with_target = data.corr()['Class'].drop('Class')\n",
    "\n",
    "# Visualize the correlations with a bar plot\n",
    "plt.figure(figsize=(10, 8))\n",
    "correlation_with_target.plot(kind='bar', color='skyblue')\n",
    "plt.title('Correlation of Features with Target Variable')\n",
    "plt.xlabel('Features')\n",
    "plt.ylabel('Correlation with Fraud')\n",
    "plt.show()"
   ]
  },
  {
   "cell_type": "markdown",
   "id": "73c4355b",
   "metadata": {
    "papermill": {
     "duration": 0.007022,
     "end_time": "2024-12-16T17:46:22.977794",
     "exception": false,
     "start_time": "2024-12-16T17:46:22.970772",
     "status": "completed"
    },
    "tags": []
   },
   "source": [
    "* **Data Preprocessing**"
   ]
  },
  {
   "cell_type": "markdown",
   "id": "ca9cb204",
   "metadata": {
    "papermill": {
     "duration": 0.00723,
     "end_time": "2024-12-16T17:46:22.992460",
     "exception": false,
     "start_time": "2024-12-16T17:46:22.985230",
     "status": "completed"
    },
    "tags": []
   },
   "source": [
    "1. Prepare the data for modelling by handling missing values,scaling and encoding categorical variables if necessary."
   ]
  },
  {
   "cell_type": "code",
   "execution_count": 11,
   "id": "5ec752d6",
   "metadata": {
    "execution": {
     "iopub.execute_input": "2024-12-16T17:46:23.008842Z",
     "iopub.status.busy": "2024-12-16T17:46:23.008065Z",
     "iopub.status.idle": "2024-12-16T17:46:23.028108Z",
     "shell.execute_reply": "2024-12-16T17:46:23.027086Z"
    },
    "papermill": {
     "duration": 0.03101,
     "end_time": "2024-12-16T17:46:23.030690",
     "exception": false,
     "start_time": "2024-12-16T17:46:22.999680",
     "status": "completed"
    },
    "tags": []
   },
   "outputs": [
    {
     "name": "stdout",
     "output_type": "stream",
     "text": [
      "Missing values in each column:\n",
      "Time      0\n",
      "V1        0\n",
      "V2        0\n",
      "V3        0\n",
      "V4        0\n",
      "V5        0\n",
      "V6        0\n",
      "V7        0\n",
      "V8        0\n",
      "V9        0\n",
      "V10       0\n",
      "V11       0\n",
      "V12       0\n",
      "V13       0\n",
      "V14       0\n",
      "V15       0\n",
      "V16       0\n",
      "V17       0\n",
      "V18       0\n",
      "V19       0\n",
      "V20       0\n",
      "V21       0\n",
      "V22       0\n",
      "V23       0\n",
      "V24       0\n",
      "V25       0\n",
      "V26       0\n",
      "V27       0\n",
      "V28       0\n",
      "Amount    0\n",
      "Class     0\n",
      "dtype: int64\n"
     ]
    }
   ],
   "source": [
    "missing_values = data.isnull().sum()\n",
    "print(\"Missing values in each column:\")\n",
    "print(missing_values)"
   ]
  },
  {
   "cell_type": "markdown",
   "id": "43487d68",
   "metadata": {
    "papermill": {
     "duration": 0.006962,
     "end_time": "2024-12-16T17:46:23.045076",
     "exception": false,
     "start_time": "2024-12-16T17:46:23.038114",
     "status": "completed"
    },
    "tags": []
   },
   "source": [
    "* **Visualization**"
   ]
  },
  {
   "cell_type": "markdown",
   "id": "d8eab5e9",
   "metadata": {
    "papermill": {
     "duration": 0.006825,
     "end_time": "2024-12-16T17:46:23.058917",
     "exception": false,
     "start_time": "2024-12-16T17:46:23.052092",
     "status": "completed"
    },
    "tags": []
   },
   "source": [
    "1. Plot the distribution of transaction times for both fraudlent and non-fraudlent transaction."
   ]
  },
  {
   "cell_type": "code",
   "execution_count": 12,
   "id": "f2b223a6",
   "metadata": {
    "execution": {
     "iopub.execute_input": "2024-12-16T17:46:23.076078Z",
     "iopub.status.busy": "2024-12-16T17:46:23.075101Z",
     "iopub.status.idle": "2024-12-16T17:46:24.720169Z",
     "shell.execute_reply": "2024-12-16T17:46:24.719039Z"
    },
    "papermill": {
     "duration": 1.656359,
     "end_time": "2024-12-16T17:46:24.722506",
     "exception": false,
     "start_time": "2024-12-16T17:46:23.066147",
     "status": "completed"
    },
    "tags": []
   },
   "outputs": [
    {
     "data": {
      "image/png": "[encoded data removed]",
      "text/plain": [
       "<Figure size 1000x600 with 1 Axes>"
      ]
     },
     "metadata": {},
     "output_type": "display_data"
    }
   ],
   "source": [
    "import warnings\n",
    "# Suppress the specific FutureWarning\n",
    "warnings.filterwarnings(\"ignore\", category=FutureWarning, module='seaborn')\n",
    "\n",
    "# Check for infinite values and replace them with NaN\n",
    "data.replace([np.inf, -np.inf], np.nan, inplace=True)\n",
    "\n",
    "# Separate the data into fraudulent and non-fraudulent transactions\n",
    "fraudulent = data[data['Class'] == 1]\n",
    "non_fraudulent = data[data['Class'] == 0]\n",
    "\n",
    "plt.figure(figsize=(10, 6))\n",
    "\n",
    "# Plot for non-fraudulent transactions\n",
    "sns.histplot(non_fraudulent['Time'], bins=50, color='green', label='Non-Fraudulent', kde=True)\n",
    "\n",
    "# Plot for fraudulent transactions\n",
    "sns.histplot(fraudulent['Time'], bins=50, color='red', label='Fraudulent', kde=True)\n",
    "\n",
    "# Adding labels and title\n",
    "plt.title('Distribution of Transaction Time for Fraudulent and Non-Fraudulent Transactions')\n",
    "plt.xlabel('Transaction Time')\n",
    "plt.ylabel('Frequency')\n",
    "plt.legend()\n",
    "\n",
    "plt.show()"
   ]
  },
  {
   "cell_type": "markdown",
   "id": "839a0f6e",
   "metadata": {
    "papermill": {
     "duration": 0.007925,
     "end_time": "2024-12-16T17:46:24.738754",
     "exception": false,
     "start_time": "2024-12-16T17:46:24.730829",
     "status": "completed"
    },
    "tags": []
   },
   "source": [
    "Model used: Random Forest\n",
    "* Handles imbalanced data effectively.\n",
    "* Resistant to overfitting.\n",
    "* Provides feature importance insights.\n",
    "* Handles large datasets efficiently.\n",
    "* Works well with both numerical and categorical data."
   ]
  },
  {
   "cell_type": "code",
   "execution_count": 13,
   "id": "6bfebdfe",
   "metadata": {
    "execution": {
     "iopub.execute_input": "2024-12-16T17:46:24.756629Z",
     "iopub.status.busy": "2024-12-16T17:46:24.756237Z",
     "iopub.status.idle": "2024-12-16T17:46:25.304648Z",
     "shell.execute_reply": "2024-12-16T17:46:25.303684Z"
    },
    "papermill": {
     "duration": 0.560214,
     "end_time": "2024-12-16T17:46:25.307113",
     "exception": false,
     "start_time": "2024-12-16T17:46:24.746899",
     "status": "completed"
    },
    "tags": []
   },
   "outputs": [],
   "source": [
    "from sklearn.ensemble import RandomForestClassifier\n",
    "from sklearn.model_selection import train_test_split\n",
    "from sklearn.metrics import classification_report, confusion_matrix, accuracy_score"
   ]
  },
  {
   "cell_type": "code",
   "execution_count": 14,
   "id": "ad49f35e",
   "metadata": {
    "execution": {
     "iopub.execute_input": "2024-12-16T17:46:25.325359Z",
     "iopub.status.busy": "2024-12-16T17:46:25.324894Z",
     "iopub.status.idle": "2024-12-16T17:48:53.066925Z",
     "shell.execute_reply": "2024-12-16T17:48:53.065726Z"
    },
    "papermill": {
     "duration": 147.762579,
     "end_time": "2024-12-16T17:48:53.078021",
     "exception": false,
     "start_time": "2024-12-16T17:46:25.315442",
     "status": "completed"
    },
    "tags": []
   },
   "outputs": [
    {
     "name": "stdout",
     "output_type": "stream",
     "text": [
      "Accuracy: 0.9995611109160493\n",
      "Confusion Matrix:\n",
      " [[56863     1]\n",
      " [   24    74]]\n",
      "Classification Report:\n",
      "               precision    recall  f1-score   support\n",
      "\n",
      "           0       1.00      1.00      1.00     56864\n",
      "           1       0.99      0.76      0.86        98\n",
      "\n",
      "    accuracy                           1.00     56962\n",
      "   macro avg       0.99      0.88      0.93     56962\n",
      "weighted avg       1.00      1.00      1.00     56962\n",
      "\n"
     ]
    }
   ],
   "source": [
    "X = data.drop(columns=['Class'])  \n",
    "y = data['Class']\n",
    "X_train, X_test, y_train, y_test = train_test_split(X, y, test_size=0.2, random_state=42)\n",
    "model = RandomForestClassifier(class_weight='balanced', random_state=42)\n",
    "model.fit(X_train, y_train)\n",
    "y_pred = model.predict(X_test)\n",
    "print(\"Accuracy:\", accuracy_score(y_test, y_pred))\n",
    "print(\"Confusion Matrix:\\n\", confusion_matrix(y_test, y_pred))\n",
    "print(\"Classification Report:\\n\", classification_report(y_test, y_pred))"
   ]
  }
 ],
 "metadata": {
  "kaggle": {
   "accelerator": "none",
   "dataSources": [
    {
     "datasetId": 310,
     "sourceId": 23498,
     "sourceType": "datasetVersion"
    }
   ],
   "dockerImageVersionId": 30775,
   "isGpuEnabled": false,
   "isInternetEnabled": false,
   "language": "python",
   "sourceType": "notebook"
  },
  "kernelspec": {
   "display_name": "Python 3",
   "language": "python",
   "name": "python3"
  },
  "language_info": {
   "codemirror_mode": {
    "name": "ipython",
    "version": 3
   },
   "file_extension": ".py",
   "mimetype": "text/x-python",
   "name": "python",
   "nbconvert_exporter": "python",
   "pygments_lexer": "ipython3",
   "version": "3.10.14"
  },
  "papermill": {
   "default_parameters": {},
   "duration": 163.292447,
   "end_time": "2024-12-16T17:48:53.808484",
   "environment_variables": {},
   "exception": null,
   "input_path": "__notebook__.ipynb",
   "output_path": "__notebook__.ipynb",
   "parameters": {},
   "start_time": "2024-12-16T17:46:10.516037",
   "version": "2.6.0"
  }
 },
 "nbformat": 4,
 "nbformat_minor": 5
}
